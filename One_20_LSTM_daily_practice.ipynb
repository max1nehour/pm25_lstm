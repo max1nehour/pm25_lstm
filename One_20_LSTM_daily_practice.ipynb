{
  "nbformat": 4,
  "nbformat_minor": 0,
  "metadata": {
    "colab": {
      "provenance": [],
      "include_colab_link": true
    },
    "kernelspec": {
      "name": "python3",
      "display_name": "Python 3"
    },
    "language_info": {
      "name": "python"
    }
  },
  "cells": [
    {
      "cell_type": "markdown",
      "metadata": {
        "id": "view-in-github",
        "colab_type": "text"
      },
      "source": [
        "<a href=\"https://colab.research.google.com/github/max1nehour/pm25_lstm/blob/main/One_20_LSTM_daily_practice.ipynb\" target=\"_parent\"><img src=\"https://colab.research.google.com/assets/colab-badge.svg\" alt=\"Open In Colab\"/></a>"
      ]
    },
    {
      "cell_type": "code",
      "source": [
        "from google.colab import drive\n",
        "drive.mount('/content/drive')"
      ],
      "metadata": {
        "colab": {
          "base_uri": "https://localhost:8080/"
        },
        "id": "2oUdfgwkgPMm",
        "outputId": "94a7d086-6451-4dba-ed9d-316854f74ef0"
      },
      "execution_count": 319,
      "outputs": [
        {
          "output_type": "stream",
          "name": "stdout",
          "text": [
            "Drive already mounted at /content/drive; to attempt to forcibly remount, call drive.mount(\"/content/drive\", force_remount=True).\n"
          ]
        }
      ]
    },
    {
      "cell_type": "code",
      "execution_count": 320,
      "metadata": {
        "colab": {
          "base_uri": "https://localhost:8080/"
        },
        "id": "cRUAGxZV2JcQ",
        "outputId": "7804618e-c520-4ba4-ecf8-f322a31bde21"
      },
      "outputs": [
        {
          "output_type": "stream",
          "name": "stdout",
          "text": [
            "            Date       area  Long_range_trans  Vehicle_exhaust  Coal_fired  \\\n",
            "0     2017-01-01    Banqiao          0.456520         4.401043    0.502707   \n",
            "1     2017-01-01     Chiayi          0.387843        22.131700    0.773481   \n",
            "2     2017-01-01     Douliu          1.657679        11.170355    1.552080   \n",
            "3     2017-01-01    Hualien          0.034066         3.683370    0.094480   \n",
            "4     2017-01-01   Xiaogang          2.605544        19.554745    1.393970   \n",
            "...          ...        ...               ...              ...         ...   \n",
            "1092  2019-12-23     Chiayi          0.381544        15.153218    0.575682   \n",
            "1093  2019-12-23     Douliu          0.520352         8.169237    2.453606   \n",
            "1094  2019-12-23    Hualien          0.071570         2.015280    0.121488   \n",
            "1095  2019-12-23   Xiaogang          2.663056         9.696881    0.401567   \n",
            "1096  2019-12-23  Zhongming          0.164308         3.985862    3.010674   \n",
            "\n",
            "      Road_dust  Soil_dust  Industrial_processes  Agricultural_activities  \\\n",
            "0      1.255795   0.356854              1.189513                 0.178427   \n",
            "1      6.891424   2.386361             12.056607                 1.332625   \n",
            "2      4.559221   5.941903             16.908981                 3.923649   \n",
            "3      0.670961   1.027567              0.139748                 0.514955   \n",
            "4      2.859353   2.757833             15.412781                 2.844326   \n",
            "...         ...        ...                   ...                      ...   \n",
            "1092   3.294619   1.348013             10.046945                 0.351860   \n",
            "1093   3.156579   6.213382              8.600318                 2.179219   \n",
            "1094   0.576137   0.805035              0.343986                 0.572777   \n",
            "1095   3.081306   2.668317             15.497811                 2.134653   \n",
            "1096   1.940062   1.949257              4.515831                 0.550849   \n",
            "\n",
            "      Sea_salt_spray  ...        As     Date_s1  N1_s1     P1_s1     dt  \\\n",
            "0           0.233365  ...  0.000490         NaN    NaN       NaN  20820   \n",
            "1           0.405771  ...  0.001303         NaN    NaN       NaN  20820   \n",
            "2           0.692221  ...  0.001035         NaN    NaN       NaN  20820   \n",
            "3           1.953852  ...  0.000655         NaN    NaN       NaN  20820   \n",
            "4           9.247669  ...  0.001167         NaN    NaN       NaN  20820   \n",
            "...              ...  ...       ...         ...    ...       ...    ...   \n",
            "1092        0.403047  ...  0.000722  2019-12-22  235.0  0.185478  21906   \n",
            "1093        0.380211  ...  0.000791  2019-12-22  284.0  0.247818  21906   \n",
            "1094        1.263816  ...  0.000190  2019-12-25  889.0  0.101461  21906   \n",
            "1095        9.298687  ...  0.000750  2019-12-22   93.0  0.105323  21906   \n",
            "1096        0.488509  ...  0.000509  2019-12-22  308.0  0.163136  21906   \n",
            "\n",
            "          Co_p   pm25  weekday  nxdt_pm25   M  \n",
            "0     0.000005   5.25   ¬P´Á¤é      17.79   1  \n",
            "1     0.000003  43.33   ¬P´Á¤é      61.17   1  \n",
            "2     0.000002  37.83   ¬P´Á¤é      49.42   1  \n",
            "3     0.000003  11.35   ¬P´Á¤é       8.91   1  \n",
            "4     0.000003  51.33   ¬P´Á¤é      68.25   1  \n",
            "...        ...    ...      ...        ...  ..  \n",
            "1092  0.000003  27.17   ¬P´Á¤@      28.54  12  \n",
            "1093  0.000005  21.50   ¬P´Á¤@      27.08  12  \n",
            "1094  0.000002   5.46   ¬P´Á¤@       6.83  12  \n",
            "1095  0.000009  33.38   ¬P´Á¤@      35.33  12  \n",
            "1096  0.000005  14.58   ¬P´Á¤@      21.25  12  \n",
            "\n",
            "[1097 rows x 87 columns]\n",
            "['drive/MyDrive/pm25/2020test.csv']\n",
            "         date area  pm25\n",
            "0     3/14/20   嘉義  18.0\n",
            "1     3/14/20   小港  25.0\n",
            "2     3/14/20   花蓮   8.0\n",
            "3     3/15/20   斗六  27.0\n",
            "4     3/15/20   嘉義  27.0\n",
            "...       ...  ...   ...\n",
            "2165  3/13/20   花蓮   9.0\n",
            "2166  3/13/20   小港  22.0\n",
            "2167  3/14/20   忠明  13.0\n",
            "2168  3/14/20   斗六  16.0\n",
            "2169  3/14/20   板橋  14.0\n",
            "\n",
            "[2170 rows x 3 columns]\n",
            "57.0\n",
            "2.0\n"
          ]
        }
      ],
      "source": [
        "# Import the libraries\n",
        "import numpy as np\n",
        "import matplotlib.pyplot as plt  # for 畫圖用\n",
        "import matplotlib.dates as mdates\n",
        "import pandas as pd\n",
        "from glob import glob\n",
        "\n",
        "#列出檔名開頭pm25的檔案\n",
        "df_train = pd.read_csv('drive/MyDrive/pm25/pm2.5_data_3.csv',dtype={ 'Date': str, 'area':str})\n",
        "print(df_train)\n",
        "\n",
        "dataset_test = glob('drive/MyDrive/pm25/2020test.csv')\n",
        "print(dataset_test)\n",
        "\n",
        "#以列合併train data 僅讀取'Date','area','PM2_5_avg' 設定欄位資料型態'Date': str, 'area':str\n",
        "\n",
        "df_test = pd.concat(\n",
        "    (pd.read_csv(file, usecols=['date','area','pm25'], dtype={ 'Date': str, 'area':str}) for file in dataset_test ), ignore_index=True)\n",
        "\n",
        "#replace 'x' by 'nan'\n",
        "df_test['pm25'] = df_test['pm25'].replace('x','NaN')\n",
        "#datatype transform\n",
        "df_test['pm25'] = df_test['pm25'].astype(float)\n",
        "print(df_test)\n",
        "\n",
        "max_pm25 = df_test['pm25'].max(axis=0)\n",
        "min_pm25 = df_test['pm25'].min(axis=0)\n",
        "print(max_pm25)\n",
        "print(min_pm25)"
      ]
    },
    {
      "cell_type": "code",
      "source": [
        "# Import the training set 2019以前\n",
        "site = 'Xiaogang'\n",
        "filt = (df_train['area'] == site)\n",
        "training_set = df_train.loc[filt, ['PM2_5']].values\n",
        "#print(training_set, '\\n\\n')\n",
        "print(training_set.shape) #183\n",
        "# test set\n",
        "site2 = '小港'\n",
        "filt2 = (df_test['area'] == site2)\n",
        "test_set = df_test.loc[filt2, ['pm25']].values\n",
        "#print(test_set)\n",
        "print(test_set.shape) #360"
      ],
      "metadata": {
        "id": "zJ9eV2P5bFvF",
        "colab": {
          "base_uri": "https://localhost:8080/"
        },
        "outputId": "0c785d32-3868-40be-ce00-b4e33080a20a"
      },
      "execution_count": 321,
      "outputs": [
        {
          "output_type": "stream",
          "name": "stdout",
          "text": [
            "(183, 1)\n",
            "(364, 1)\n"
          ]
        }
      ]
    },
    {
      "cell_type": "markdown",
      "source": [
        "做 Normalization，將資料壓縮在 [0,1] 之間"
      ],
      "metadata": {
        "id": "-x8v2hJI2Yg3"
      }
    },
    {
      "cell_type": "code",
      "source": [
        "# Feature Scaling\n",
        "from sklearn.preprocessing import MinMaxScaler\n",
        "\n",
        "sc = MinMaxScaler(feature_range = (0, 1)) #控制最大值最小值範圍\n",
        "training_set_scaled = sc.fit_transform(training_set)#fit_transform: 先對partData作fit()的功能，找到該partData的整體統計特性之指標，如平均值、標準差、最大最小值等等(能依據不同目的套用這些指標在不同的轉換(即後面的transform()動作)上，再實行transform(partData)以對partData進行標準化\n",
        "print(training_set_scaled.shape)\n",
        "#training_set_scaled = training_set"
      ],
      "metadata": {
        "id": "APjY3Lap2Y22",
        "colab": {
          "base_uri": "https://localhost:8080/"
        },
        "outputId": "57531cc8-ab26-43ed-a780-f84ef8c0da61"
      },
      "execution_count": 322,
      "outputs": [
        {
          "output_type": "stream",
          "name": "stdout",
          "text": [
            "(183, 1)\n"
          ]
        }
      ]
    },
    {
      "cell_type": "markdown",
      "source": [
        "準備進入訓練的資料格式：設定 Timestep 設為 60 ，代表過去 60 天的資訊，嘗試過數值設置太少，將使 RNN 無法學習。"
      ],
      "metadata": {
        "id": "U6czb7VR2ebe"
      }
    },
    {
      "cell_type": "code",
      "source": [
        "X_train = []\n",
        "y_train = []\n",
        "for i in range(1, 182):  # 訓練集總數\n",
        "    X_train.append(training_set_scaled[i-1:i, 0])\n",
        "    y_train.append(training_set_scaled[i, 0])\n",
        "X_train, y_train = np.array(X_train), np.array(y_train)  # 轉成numpy array的格式，以利輸入 RNN"
      ],
      "metadata": {
        "id": "qmWe8lgZ2gYH"
      },
      "execution_count": 323,
      "outputs": []
    },
    {
      "cell_type": "markdown",
      "source": [
        "Reshape\n",
        "因為現在 X_train 是 2-dimension，將它 reshape 成 3-dimension: [stock prices, timesteps, indicators]"
      ],
      "metadata": {
        "id": "zsF7SLpB2j5C"
      }
    },
    {
      "cell_type": "code",
      "source": [
        "X_train = np.reshape(X_train, (X_train.shape[0], X_train.shape[1], 1))"
      ],
      "metadata": {
        "id": "63JW5quZ2ld3"
      },
      "execution_count": 324,
      "outputs": []
    },
    {
      "cell_type": "markdown",
      "source": [
        "#搭建一個 LSTM"
      ],
      "metadata": {
        "id": "xsdM-s92K55d"
      }
    },
    {
      "cell_type": "code",
      "source": [
        "# Import the Keras libraries and packages\n",
        "from keras.models import Sequential\n",
        "from keras.layers import Dense\n",
        "from keras.layers import LSTM\n",
        "from keras.layers import Dropout\n",
        "\n",
        "# Initialising the RNN\n",
        "regressor = Sequential()"
      ],
      "metadata": {
        "id": "248Rpc6mK8aS"
      },
      "execution_count": 325,
      "outputs": []
    },
    {
      "cell_type": "markdown",
      "source": [
        "搭建 LSTM layer\n",
        "\n",
        "units: 神經元的數目\n",
        "\n",
        "第一層的 LSTM Layer 記得要設定input_shape參數\n",
        "\n",
        "搭配使用dropout，這裡設為 0.2\n",
        "\n",
        "由於這邊的第四層 LSTM Layer 即將跟 Ouput Layer 做連接，因此注意這邊的 return_sequences 設為預設值 False （也就是不用寫上 return_sequences）"
      ],
      "metadata": {
        "id": "4CAUOC_3LQUr"
      }
    },
    {
      "cell_type": "code",
      "source": [
        "from keras.layers import Bidirectional\n",
        "\n",
        "# Adding the first LSTM layer and some Dropout regularisation\n",
        "regressor.add(LSTM(units = 50, return_sequences = True, input_shape = (X_train.shape[1], 1)))\n",
        "regressor.add(Dropout(0.2))\n",
        "\n",
        "# Adding a second LSTM layer and some Dropout regularisation\n",
        "regressor.add(LSTM(units = 50, return_sequences = True))\n",
        "regressor.add(Dropout(0.2))\n",
        "\n",
        "# Adding a third LSTM layer and some Dropout regularisation\n",
        "regressor.add(LSTM(units = 50, return_sequences = True))\n",
        "regressor.add(Dropout(0.2))\n",
        "\n",
        "# Adding a fourth LSTM layer and some Dropout regularisation\n",
        "regressor.add(LSTM(units = 50))\n",
        "regressor.add(Dropout(0.2))"
      ],
      "metadata": {
        "id": "WHs47WxvLKCH"
      },
      "execution_count": 326,
      "outputs": []
    },
    {
      "cell_type": "code",
      "source": [
        "# Adding the output layer\n",
        "regressor.add(Dense(units = 1))"
      ],
      "metadata": {
        "id": "TGyx7AiWLfh2"
      },
      "execution_count": 327,
      "outputs": []
    },
    {
      "cell_type": "markdown",
      "source": [
        "#Compiling & Fitting LSTM model\n",
        "\n",
        "optimizer: 選擇 Adam\n",
        "\n",
        "loss: 使用 MSE"
      ],
      "metadata": {
        "id": "Li8VCw-6LdYI"
      }
    },
    {
      "cell_type": "code",
      "source": [
        "# Compiling\n",
        "import tensorflow as tf\n",
        "from keras import optimizers\n",
        "from keras import metrics\n",
        "regressor.compile(optimizer = 'adam', loss = 'mean_squared_error', metrics=[metrics.mae, metrics.sparse_top_k_categorical_accuracy]) #adam is good at time series data\n",
        "print(X_train.shape)\n",
        "# 進行訓練\n",
        "history = regressor.fit(X_train, y_train, epochs = 30, batch_size = 32)\n",
        "# val_loss 驗證集損失: 比訓練集損失小，是一個好的表現\n",
        "# Val_accuracy 驗證集準確率\n",
        "# val_accuracy 衡量模型在未見過的數據上的預測準確性"
      ],
      "metadata": {
        "id": "lctrPljRLsC6",
        "colab": {
          "base_uri": "https://localhost:8080/"
        },
        "outputId": "e394c867-51a2-4be3-cde5-0b2c1f19de1e"
      },
      "execution_count": 328,
      "outputs": [
        {
          "output_type": "stream",
          "name": "stdout",
          "text": [
            "(181, 1, 1)\n",
            "Epoch 1/30\n",
            "6/6 [==============================] - 8s 17ms/step - loss: 0.1724 - mean_absolute_error: 0.3371 - sparse_top_k_categorical_accuracy: 0.9945\n",
            "Epoch 2/30\n",
            "6/6 [==============================] - 0s 16ms/step - loss: 0.1569 - mean_absolute_error: 0.3142 - sparse_top_k_categorical_accuracy: 0.9945\n",
            "Epoch 3/30\n",
            "6/6 [==============================] - 0s 16ms/step - loss: 0.1389 - mean_absolute_error: 0.2891 - sparse_top_k_categorical_accuracy: 0.9945\n",
            "Epoch 4/30\n",
            "6/6 [==============================] - 0s 15ms/step - loss: 0.1189 - mean_absolute_error: 0.2624 - sparse_top_k_categorical_accuracy: 0.9945\n",
            "Epoch 5/30\n",
            "6/6 [==============================] - 0s 15ms/step - loss: 0.0947 - mean_absolute_error: 0.2342 - sparse_top_k_categorical_accuracy: 0.9945\n",
            "Epoch 6/30\n",
            "6/6 [==============================] - 0s 14ms/step - loss: 0.0727 - mean_absolute_error: 0.2137 - sparse_top_k_categorical_accuracy: 0.9945\n",
            "Epoch 7/30\n",
            "6/6 [==============================] - 0s 14ms/step - loss: 0.0564 - mean_absolute_error: 0.1986 - sparse_top_k_categorical_accuracy: 0.9945\n",
            "Epoch 8/30\n",
            "6/6 [==============================] - 0s 14ms/step - loss: 0.0493 - mean_absolute_error: 0.1891 - sparse_top_k_categorical_accuracy: 0.9945\n",
            "Epoch 9/30\n",
            "6/6 [==============================] - 0s 14ms/step - loss: 0.0528 - mean_absolute_error: 0.1945 - sparse_top_k_categorical_accuracy: 0.9945\n",
            "Epoch 10/30\n",
            "6/6 [==============================] - 0s 14ms/step - loss: 0.0504 - mean_absolute_error: 0.1937 - sparse_top_k_categorical_accuracy: 0.9945\n",
            "Epoch 11/30\n",
            "6/6 [==============================] - 0s 14ms/step - loss: 0.0488 - mean_absolute_error: 0.1858 - sparse_top_k_categorical_accuracy: 0.9945\n",
            "Epoch 12/30\n",
            "6/6 [==============================] - 0s 14ms/step - loss: 0.0468 - mean_absolute_error: 0.1780 - sparse_top_k_categorical_accuracy: 0.9945\n",
            "Epoch 13/30\n",
            "6/6 [==============================] - 0s 15ms/step - loss: 0.0447 - mean_absolute_error: 0.1764 - sparse_top_k_categorical_accuracy: 0.9945\n",
            "Epoch 14/30\n",
            "6/6 [==============================] - 0s 16ms/step - loss: 0.0425 - mean_absolute_error: 0.1723 - sparse_top_k_categorical_accuracy: 0.9945\n",
            "Epoch 15/30\n",
            "6/6 [==============================] - 0s 14ms/step - loss: 0.0418 - mean_absolute_error: 0.1734 - sparse_top_k_categorical_accuracy: 0.9945\n",
            "Epoch 16/30\n",
            "6/6 [==============================] - 0s 14ms/step - loss: 0.0384 - mean_absolute_error: 0.1635 - sparse_top_k_categorical_accuracy: 0.9945\n",
            "Epoch 17/30\n",
            "6/6 [==============================] - 0s 14ms/step - loss: 0.0366 - mean_absolute_error: 0.1575 - sparse_top_k_categorical_accuracy: 0.9945\n",
            "Epoch 18/30\n",
            "6/6 [==============================] - 0s 14ms/step - loss: 0.0358 - mean_absolute_error: 0.1577 - sparse_top_k_categorical_accuracy: 0.9945\n",
            "Epoch 19/30\n",
            "6/6 [==============================] - 0s 14ms/step - loss: 0.0336 - mean_absolute_error: 0.1533 - sparse_top_k_categorical_accuracy: 0.9945\n",
            "Epoch 20/30\n",
            "6/6 [==============================] - 0s 14ms/step - loss: 0.0350 - mean_absolute_error: 0.1564 - sparse_top_k_categorical_accuracy: 0.9945\n",
            "Epoch 21/30\n",
            "6/6 [==============================] - 0s 14ms/step - loss: 0.0367 - mean_absolute_error: 0.1569 - sparse_top_k_categorical_accuracy: 0.9945\n",
            "Epoch 22/30\n",
            "6/6 [==============================] - 0s 14ms/step - loss: 0.0349 - mean_absolute_error: 0.1524 - sparse_top_k_categorical_accuracy: 0.9945\n",
            "Epoch 23/30\n",
            "6/6 [==============================] - 0s 15ms/step - loss: 0.0359 - mean_absolute_error: 0.1573 - sparse_top_k_categorical_accuracy: 0.9945\n",
            "Epoch 24/30\n",
            "6/6 [==============================] - 0s 15ms/step - loss: 0.0364 - mean_absolute_error: 0.1535 - sparse_top_k_categorical_accuracy: 0.9945\n",
            "Epoch 25/30\n",
            "6/6 [==============================] - 0s 15ms/step - loss: 0.0339 - mean_absolute_error: 0.1482 - sparse_top_k_categorical_accuracy: 0.9945\n",
            "Epoch 26/30\n",
            "6/6 [==============================] - 0s 15ms/step - loss: 0.0347 - mean_absolute_error: 0.1528 - sparse_top_k_categorical_accuracy: 0.9945\n",
            "Epoch 27/30\n",
            "6/6 [==============================] - 0s 15ms/step - loss: 0.0344 - mean_absolute_error: 0.1526 - sparse_top_k_categorical_accuracy: 0.9945\n",
            "Epoch 28/30\n",
            "6/6 [==============================] - 0s 14ms/step - loss: 0.0355 - mean_absolute_error: 0.1558 - sparse_top_k_categorical_accuracy: 0.9945\n",
            "Epoch 29/30\n",
            "6/6 [==============================] - 0s 15ms/step - loss: 0.0357 - mean_absolute_error: 0.1537 - sparse_top_k_categorical_accuracy: 0.9945\n",
            "Epoch 30/30\n",
            "6/6 [==============================] - 0s 14ms/step - loss: 0.0347 - mean_absolute_error: 0.1507 - sparse_top_k_categorical_accuracy: 0.9945\n"
          ]
        }
      ]
    },
    {
      "cell_type": "code",
      "source": [
        "from matplotlib import pyplot\n",
        "pyplot.plot(history.history['loss'])\n",
        "pyplot.title('model train')\n",
        "pyplot.ylabel('loss')\n",
        "pyplot.xlabel('epoch')\n",
        "pyplot.legend(['train'], loc='upper right')\n",
        "pyplot.show()"
      ],
      "metadata": {
        "id": "4dn-B2SXpcOA",
        "colab": {
          "base_uri": "https://localhost:8080/",
          "height": 472
        },
        "outputId": "c56e3abd-bdd2-4a07-f237-10c1b8e6ebdb"
      },
      "execution_count": 329,
      "outputs": [
        {
          "output_type": "display_data",
          "data": {
            "text/plain": [
              "<Figure size 640x480 with 1 Axes>"
            ],
            "image/png": "[encoded data removed]"
          },
          "metadata": {}
        }
      ]
    },
    {
      "cell_type": "markdown",
      "source": [
        "# 進行預測"
      ],
      "metadata": {
        "id": "6UngBlUsL1DV"
      }
    },
    {
      "cell_type": "code",
      "source": [
        "#取測試 2020的pm2.5\n",
        "real_pm25 = test_set\n",
        "#print(real_pm25.shape) #360\n",
        "#print(real_pm25)"
      ],
      "metadata": {
        "id": "d2WJLiZAL7a4"
      },
      "execution_count": 330,
      "outputs": []
    },
    {
      "cell_type": "code",
      "source": [
        "dataset_total = pd.concat((df_train['PM2_5'], df_test['pm25']), axis = 0)\n",
        "inputs = dataset_total[len(dataset_total) - len(df_test) - 1:].values\n",
        "inputs = inputs.reshape(-1,1)\n",
        "inputs = sc.transform(inputs) # Feature Scaling\n",
        "print(inputs.shape)\n",
        "\n",
        "X_test = []\n",
        "for i in range(1,361): # timesteps一樣60； 81 = 20+61\n",
        "    X_test.append(inputs[i- 1:i, 0])\n",
        "X_test = np.array(X_test)\n",
        "X_test = np.reshape(X_test, (X_test.shape[0], X_test.shape[1], 1))  # Reshape 成 3-dimension"
      ],
      "metadata": {
        "id": "Gq00P6ByL_5j",
        "colab": {
          "base_uri": "https://localhost:8080/"
        },
        "outputId": "591b032c-03bb-4d9c-8289-bae9fc6d319f"
      },
      "execution_count": 331,
      "outputs": [
        {
          "output_type": "stream",
          "name": "stdout",
          "text": [
            "(2171, 1)\n"
          ]
        }
      ]
    },
    {
      "cell_type": "code",
      "source": [
        "#進行預測\n",
        "predicted_pm25 = regressor.predict(X_test)\n",
        "predicted_pm25 = sc.inverse_transform(predicted_pm25)  # to get the original scale"
      ],
      "metadata": {
        "id": "IkxvJJBwMG_L",
        "colab": {
          "base_uri": "https://localhost:8080/"
        },
        "outputId": "f2aac403-6e92-4d54-862b-93c46d0d9a10"
      },
      "execution_count": 332,
      "outputs": [
        {
          "output_type": "stream",
          "name": "stdout",
          "text": [
            "12/12 [==============================] - 2s 3ms/step\n"
          ]
        }
      ]
    },
    {
      "cell_type": "code",
      "source": [
        "#x = df_test['Date']\n",
        "plt.plot(real_pm25, color = 'red', label = 'Real PM2.5')  # 紅線表示真實股價\n",
        "plt.plot(predicted_pm25, color = 'blue', label = 'Predicted PM2.5')  # 藍線表示預測股價\n",
        "plt.title('PM2.5 Daily Prediction')\n",
        "plt.xlabel('Time')\n",
        "plt.ylabel('PM2.5')\n",
        "plt.legend()\n",
        "plt.show()\n"
      ],
      "metadata": {
        "id": "rOsjC4zyMG9t",
        "colab": {
          "base_uri": "https://localhost:8080/",
          "height": 472
        },
        "outputId": "58b259dd-e14a-4fa9-9815-3c860fe64bd9"
      },
      "execution_count": 333,
      "outputs": [
        {
          "output_type": "display_data",
          "data": {
            "text/plain": [
              "<Figure size 640x480 with 1 Axes>"
            ],
            "image/png": "[encoded data removed]"
          },
          "metadata": {}
        }
      ]
    },
    {
      "cell_type": "code",
      "source": [
        "from sklearn.metrics import mean_squared_error, mean_absolute_error\n",
        "print(real_pm25.shape)\n",
        "print(predicted_pm25.shape)\n",
        "\n",
        "real = pd.DataFrame(real_pm25)\n",
        "predict = pd.DataFrame(predicted_pm25)\n",
        "\n",
        "real.fillna(real.mean(), inplace=True)\n",
        "predict.fillna(predict.mean(), inplace=True)\n",
        "\n",
        "rmse = np.sqrt(mean_squared_error(real[250:360], predict[250:360]))\n",
        "mae = mean_absolute_error(real[250:360], predict[250:360])\n",
        "\n",
        "rmse_175 = np.sqrt(mean_squared_error(real[0:250], predict[0:250]))\n",
        "mae_175 = mean_absolute_error(real[0:250], predict[0:250])\n",
        "\n",
        "rmse_230 = np.sqrt(mean_squared_error(real[230:300], predict[230:300]))\n",
        "mae_230 = mean_absolute_error(real[230:300], predict[230:300])\n",
        "\n",
        "print(\"RMSE(230-300):\", rmse_230)\n",
        "print(\"MAE:\", mae_230)\n",
        "print(\"------------------\")\n",
        "print(\"RMSE(250:360):\", rmse)\n",
        "print(\"MAE:\", mae)\n",
        "print(\"------------------\")\n",
        "print(\"RMSE(0:250):\", rmse_175)\n",
        "print(\"MAE:\", mae_175)\n",
        "\n"
      ],
      "metadata": {
        "id": "zNkBejdNcFfR",
        "colab": {
          "base_uri": "https://localhost:8080/"
        },
        "outputId": "2a394418-f644-41ba-8781-ead6d80dfeb4"
      },
      "execution_count": 334,
      "outputs": [
        {
          "output_type": "stream",
          "name": "stdout",
          "text": [
            "(364, 1)\n",
            "(360, 1)\n",
            "RMSE(230-300): 16.349088076622724\n",
            "MAE: 14.781345312935965\n",
            "------------------\n",
            "RMSE(250:360): 13.873682074963696\n",
            "MAE: 11.81802640394731\n",
            "------------------\n",
            "RMSE(0:250): 11.697227116968644\n",
            "MAE: 9.572331669586779\n"
          ]
        }
      ]
    }
  ]
}